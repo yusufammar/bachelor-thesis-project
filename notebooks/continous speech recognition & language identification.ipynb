{
 "cells": [
  {
   "cell_type": "code",
   "execution_count": 1,
   "id": "29dabbc8-2cd4-47ef-9723-5f1415bc2463",
   "metadata": {},
   "outputs": [],
   "source": [
    "#Speech to Text Cell 2 (Continous Speech Recognition, with continous language detection #not natural needs to pause for 1 sec when code switching\n",
    "#Link: https://docs.microsoft.com/en-us/azure/cognitive-services/speech-service/language-identification?tabs=once&pivots=programming-language-python\n",
    "\n",
    "import azure.cognitiveservices.speech as speechsdk\n",
    "import json\n",
    "import time\n",
    "import math\n",
    "\n",
    "\n",
    "def speech_recognize_continuous_from_file2(filePath): \n",
    "    #Stop Callback\n",
    "    def stop_cb(evt):\n",
    "        \"\"\"callback that signals to stop continuous recognition upon receiving an event `evt`\"\"\"\n",
    "        #print('CLOSING on {}'.format(evt))\n",
    "        nonlocal done\n",
    "        done = True\n",
    "\n",
    "    #Handle Recognized Speech Envent\n",
    "\n",
    "\n",
    "    \n",
    "    endpoint_string = \"wss://{}.stt.speech.microsoft.com/speech/universal/v2\".format(\"southafricanorth\")\n",
    "\n",
    "    speech_config = speechsdk.SpeechConfig(subscription=\"0915a529a519455daa5e8dfce0a921df\", endpoint=endpoint_string)\n",
    "    speech_config.set_property(property_id=speechsdk.PropertyId.SpeechServiceConnection_ContinuousLanguageIdPriority, value='Latency')\n",
    "    speech_config.set_service_property(\"wordLevelConfidence\",\"true\", speechsdk.ServicePropertyChannel.UriQueryParameter)\n",
    "    speech_config.request_word_level_timestamps()      #Gets offset & duration of each word                                             \n",
    "    speech_config.set_profanity(speechsdk.ProfanityOption.Removed)  #Removes profane words\n",
    "    speech_config.set_service_property(\"format\",\"detailed\", speechsdk.ServicePropertyChannel.UriQueryParameter)\n",
    "\n",
    "    audio_config = speechsdk.audio.AudioConfig(filename=filePath)                                                         #path of file here\n",
    "    \n",
    "    auto_detect_source_language_config = speechsdk.languageconfig.AutoDetectSourceLanguageConfig(languages=[\"en-US\", \"ar-EG\"])\n",
    "    \n",
    "    speech_recognizer = speechsdk.SpeechRecognizer(speech_config=speech_config, auto_detect_source_language_config=auto_detect_source_language_config, audio_config=audio_config)\n",
    "\n",
    "\n",
    "    #Stop Callback\n",
    "    done = False\n",
    "\n",
    "    stringList=[]\n",
    "    \n",
    "    def handleResult(evt):          #handles result of every small output\n",
    "        r= evt.result\n",
    "        #print(r.text)\n",
    "        #output= json.loads(r.json)['NBest'][0]            # the display text of the result is always associated with ['NBest'][0]       \n",
    "        stringList.append(r.text)\n",
    "        \n",
    "    \n",
    "\n",
    "    #Recognized Speech\n",
    "    speech_recognizer.recognized.connect(lambda evt: handleResult(evt) )  # only occurs if speech is recognized (r.reason == speechsdk.ResultReason.RecognizedSpeech) (so you don't need to handle the speech not recognized condition\n",
    "\n",
    "    # Stopping Conditions (of continous speech recognition-> either session stopped or canceled events\n",
    "    speech_recognizer.session_stopped.connect(stop_cb)\n",
    "    speech_recognizer.canceled.connect(stop_cb)\n",
    "\n",
    "    # Start continuous speech recognition\n",
    "    speech_recognizer.start_continuous_recognition()\n",
    "\n",
    "\n",
    "    #Delay between code\n",
    "    while not done:\n",
    "        time.sleep(.5)\n",
    "\n",
    "    # Stop continuous speech recognition & Return output\n",
    "    speech_recognizer.stop_continuous_recognition()\n",
    "\n",
    "    string=\"\"\n",
    "    for x in stringList:\n",
    "        string+= x + \" \"\n",
    "        \n",
    "    print(string)    \n",
    "    return string\n",
    "\n"
   ]
  },
  {
   "cell_type": "code",
   "execution_count": 17,
   "id": "eaa7dc7f-482f-4ef0-a3d1-3d0aca6b24d9",
   "metadata": {},
   "outputs": [
    {
     "name": "stdout",
     "output_type": "stream",
     "text": [
      "I'm going to the park. مش عارف أعمل إيه دلوقتي؟ \n"
     ]
    }
   ],
   "source": [
    "file= '2-3'\n",
    "path= \"Sample Audio/Code-switched/\" + file +\".wav\"\n",
    "\n",
    "x= speech_recognize_continuous_from_file2(path)"
   ]
  }
 ],
 "metadata": {
  "kernelspec": {
   "display_name": "Python 3 (ipykernel)",
   "language": "python",
   "name": "python3"
  },
  "language_info": {
   "codemirror_mode": {
    "name": "ipython",
    "version": 3
   },
   "file_extension": ".py",
   "mimetype": "text/x-python",
   "name": "python",
   "nbconvert_exporter": "python",
   "pygments_lexer": "ipython3",
   "version": "3.9.7"
  }
 },
 "nbformat": 4,
 "nbformat_minor": 5
}
